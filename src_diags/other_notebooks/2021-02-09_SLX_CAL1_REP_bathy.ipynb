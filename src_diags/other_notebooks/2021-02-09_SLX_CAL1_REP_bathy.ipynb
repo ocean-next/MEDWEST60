{
 "cells": [
  {
   "cell_type": "markdown",
   "metadata": {},
   "source": [
    "# Bathy illustrations\n",
    "This notebook plots the MEDWEST60 bathymetry"
   ]
  },
  {
   "cell_type": "code",
   "execution_count": 2,
   "metadata": {},
   "outputs": [],
   "source": [
    "## standart libraries\n",
    "import os,sys\n",
    "import numpy as np\n",
    "\n",
    "from scipy.signal import argrelmax\n",
    "from scipy.stats import linregress\n",
    "\n",
    "# xarray\n",
    "import xarray as xr\n",
    "\n",
    "# plot\n",
    "import cartopy.crs as ccrs\n",
    "import matplotlib.pyplot as plt\n",
    "from matplotlib.colors import Colormap\n",
    "import matplotlib.colors as mcolors\n",
    "import matplotlib.dates as mdates\n",
    "import matplotlib.cm as cm\n",
    "import matplotlib.dates as mdates\n",
    "import matplotlib.ticker as mticker\n",
    "from matplotlib.colors import from_levels_and_colors\n",
    "from mpl_toolkits.axes_grid1.inset_locator import inset_axes\n",
    "import cmocean\n",
    "\n",
    "# custom tools\n",
    "import lib_medwest60 as slx\n",
    "\n",
    "%matplotlib inline "
   ]
  },
  {
   "cell_type": "code",
   "execution_count": 4,
   "metadata": {},
   "outputs": [],
   "source": [
    "diro='/mnt/meom/workdir/lerouste/MEDWEST60/DIAGS/'"
   ]
  },
  {
   "cell_type": "markdown",
   "metadata": {},
   "source": [
    "* reads bathy"
   ]
  },
  {
   "cell_type": "code",
   "execution_count": 5,
   "metadata": {},
   "outputs": [],
   "source": [
    "machine='CAL1'\n",
    "nav_lat,nav_lon,bathy = slx.readonlybathy(machine)"
   ]
  },
  {
   "cell_type": "markdown",
   "metadata": {},
   "source": [
    "* also reads sst and mask"
   ]
  },
  {
   "cell_type": "code",
   "execution_count": 7,
   "metadata": {},
   "outputs": [
    {
     "name": "stdout",
     "output_type": "stream",
     "text": [
      "/mnt/meom/workdir/lerouste/MEDWEST60/MEDWEST60-GSL14-S/ens01/1h/gridT-2D/\n",
      "001MEDWEST60-GSL14-ens01_1h_*gridT-2D_*.nc\n",
      "/mnt/meom/workdir/lerouste/MEDWEST60/MEDWEST60-GSL14-S/ens01/1h/gridT-2D/\n",
      "002MEDWEST60-GSL14-ens01_1h_*gridT-2D_*.nc\n"
     ]
    }
   ],
   "source": [
    "\n",
    "varna=\"sosstsst\"\n",
    "typ=\"gridT-2D\"\n",
    "naexp=\"NO\"\n",
    "CONFIGCASE='MEDWEST60-GSL14'\n",
    "ens='ens01'\n",
    "machine='CAL1'\n",
    "nav_lat_ref,nav_lon_ref,mask,sst,varname,latexvarname=slx.readallmbs(machine=machine,NMBtot=2,typ=typ,varna=varna,CONFIGCASEmed=CONFIGCASE,ens=ens)\n",
    "sst.attrs['experiment_short_name'] =  naexp\n"
   ]
  },
  {
   "cell_type": "markdown",
   "metadata": {},
   "source": [
    "* plot bathy"
   ]
  },
  {
   "cell_type": "code",
   "execution_count": null,
   "metadata": {},
   "outputs": [],
   "source": [
    "ie=1\n",
    "it=0\n",
    "Lregion=[454,804,176,526]\n",
    "region=[470,720,95,415]\n",
    "#region4=[470,720,115,365]\n",
    "gstyle='darkstyle'\n",
    "plto = \"bathyplot\"    \n",
    "\n",
    "\n",
    "#====================================\n",
    "# data to plot \n",
    "\n",
    "data2plot = (bathy*1e-3).where(mask.isel(z=0)>0).squeeze().to_masked_array()\n",
    "\n",
    "namo = plto+'_'+str(it)+'.png'\n",
    "\n",
    "\n",
    "#========= Plot settings ===============\n",
    "\n",
    "levbounds=[0.,3.250,0.050]\n",
    "\n",
    "# customed colormap\n",
    "cmap,norm = slx.mycolormap(levbounds,cm_base=cmocean.cm.ice_r,cu='w',co='k')\n",
    "\n",
    "#========= PLOT ===============\n",
    "fig3,(ax) = plt.subplots(1, 1, figsize=[16, 12],facecolor='w')\n",
    "\n",
    "# main plot\n",
    "cs,ax = slx.plotmapMEDWEST_gp(fig3,ax,data2plot,cmap,norm,plto=plto,gridpts=True,gridptsgrid=True,gstyle=gstyle)\n",
    "\n",
    "lalpha=0.2\n",
    "lwidthgrid=1.\n",
    "gridinc=200\n",
    "lstylegrid=(0, (5, 5))\n",
    "if (gstyle=='lightstyle'):\n",
    "        cmap.set_bad('w')\n",
    "        lcolorgrid=\"#585858\" # \"#D8D8D8\"\n",
    "        tcolorgrid='#848484'#\"#848484\"         \n",
    "        \n",
    "if (gstyle=='darkstyle'):\n",
    "        lcolorgrid=\"w\" # \"#D8D8D8\"\n",
    "        tcolorgrid='#848484'#\"#848484\"  \n",
    "\n",
    "#ax = plt.gca()\n",
    "ax.xaxis.set_major_locator(mticker.MultipleLocator(gridinc))\n",
    "ax.yaxis.set_major_locator(mticker.MultipleLocator(gridinc))   \n",
    "ax.tick_params(axis='x', colors=tcolorgrid)\n",
    "ax.tick_params(axis='y', colors=tcolorgrid)\n",
    "ax.grid(which='major',linestyle=lstylegrid,color=lcolorgrid,alpha=lalpha,linewidth=lwidthgrid)\n",
    "ax.axhline(y=1.,xmin=0, xmax=883,zorder=10,color=lcolorgrid,linewidth=lwidthgrid,linestyle=lstylegrid,alpha=lalpha )\n",
    "\n",
    "# add date\n",
    "tcolordate=\"848484\"\n",
    "tsizedate=14\n",
    "\n",
    "plt.axhline(y=350.,xmin=200, xmax=400,zorder=10,color='r',linewidth=3,linestyle='-',alpha=1 )\n",
    "\n",
    "\n",
    "# add colorbar\n",
    "cbon=True\n",
    "if cbon:\n",
    "    tlabel=latexvarname+slx.textunit(varname)\n",
    "    tlabel=\"bathymetry (km)\"\n",
    "    cb = slx.addcolorbar(fig3,cs,ax,levbounds,levincr=10,tformat=\"%.1f\",tlabel=tlabel,facmul=1,orientation='horizontal',tc='w')\n",
    "\n",
    "\n",
    "showzoom=False\n",
    "if showzoom:\n",
    "    #region=region4\n",
    "    xbox=[region[0],region[0],region[1],region[1],region[0]]\n",
    "    ybox=[region[2],region[3],region[3],region[2],region[2]]\n",
    "    ax.plot(xbox, ybox, color=\"#FFFF00\", alpha=1,linewidth=3, linestyle=\"-\",solid_capstyle='round', zorder=2)\n",
    "    #ax.annotate(\"zoom 0\",xy=(460,485),xycoords='data', color=\"#0B3861\",size=12)\n",
    "\n",
    "showzoom2=False\n",
    "if showzoom2:\n",
    "    #region=region4\n",
    "    xbox=[Lregion[0],Lregion[0],Lregion[1],Lregion[1],Lregion[0]]\n",
    "    ybox=[Lregion[2],Lregion[3],Lregion[3],Lregion[2],Lregion[2]]\n",
    "    ax.plot(xbox, ybox, color=\"#FFFF00\", alpha=1,linewidth=3, linestyle=\":\",solid_capstyle='round', zorder=2)\n",
    "\n",
    "plt.show()\n",
    "\n",
    "# Save fig in png, resolution dpi    \n",
    "slx.saveplt(fig3,diro,namo,dpifig=300)\n",
    "    "
   ]
  },
  {
   "cell_type": "code",
   "execution_count": null,
   "metadata": {},
   "outputs": [],
   "source": []
  }
 ],
 "metadata": {
  "kernelspec": {
   "display_name": "Python 3",
   "language": "python",
   "name": "python3"
  },
  "language_info": {
   "codemirror_mode": {
    "name": "ipython",
    "version": 3
   },
   "file_extension": ".py",
   "mimetype": "text/x-python",
   "name": "python",
   "nbconvert_exporter": "python",
   "pygments_lexer": "ipython3",
   "version": "3.6.3"
  }
 },
 "nbformat": 4,
 "nbformat_minor": 2
}
